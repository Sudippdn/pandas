{
 "cells": [
  {
   "cell_type": "code",
   "execution_count": 7,
   "id": "b7f4114a",
   "metadata": {},
   "outputs": [],
   "source": [
    "import pandas as pd\n",
    "import seaborn as sns\n",
    "\n",
    "import matplotlib as mpl\n",
    "import matplotlib.pyplot as plt\n",
    "plt.style.use(\"ggplot\")\n",
    "from matplotlib.pyplot import figure\n",
    "\n",
    "%matplotlib inline \n",
    "mpl.rcParams['figure.figsize'] = [12,8]\n",
    "# mpl.figure.Figure(12,8)"
   ]
  },
  {
   "cell_type": "code",
   "execution_count": null,
   "id": "5e7fd99e",
   "metadata": {},
   "outputs": [],
   "source": [
    "df.read_csv(\"\")"
   ]
  }
 ],
 "metadata": {
  "kernelspec": {
   "display_name": "Python 3 (ipykernel)",
   "language": "python",
   "name": "python3"
  },
  "language_info": {
   "codemirror_mode": {
    "name": "ipython",
    "version": 3
   },
   "file_extension": ".py",
   "mimetype": "text/x-python",
   "name": "python",
   "nbconvert_exporter": "python",
   "pygments_lexer": "ipython3",
   "version": "3.11.5"
  }
 },
 "nbformat": 4,
 "nbformat_minor": 5
}
